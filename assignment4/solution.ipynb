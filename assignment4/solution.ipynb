{
 "cells": [
  {
   "cell_type": "code",
   "id": "initial_id",
   "metadata": {
    "collapsed": true,
    "ExecuteTime": {
     "end_time": "2025-08-19T14:05:33.720649Z",
     "start_time": "2025-08-19T14:05:33.714071Z"
    }
   },
   "source": [
    "students = [(\"Alice\", 85), (\"Bob\", 78), (\"Charlie\", 92), (\"David\", 85), (\"Eve\", 78), (\"Frank\", 85), (\"Mark\", 50),\n",
    "            (\"George\", 21)]\n",
    "\n",
    "# 1. უნიკალური ქულები (Unique Grades)\n",
    "# set ტიპი ავტომატურად ინახავს მხოლოდ უნიკალურ მნიშვნელობებს, ამიტომ შევქმნი ცარიელ set-ს და ციკლით ჩავამატებ სტუდენტების ქულებს\n",
    "unique_grades = set()\n",
    "for student in students:\n",
    "    unique_grades.add(student[1])\n",
    "print(f\"Unique Grades: {unique_grades}\")\n",
    "\n",
    "print(\"\\n\" + \"-\"*30 + \"\\n\")\n",
    "\n",
    "# 2. საუკეთესო შედეგების მქონე სტუდენტები (Top Performers):\n",
    "# უკვე არსებული უნიკალური ქულები უნდა დავალაგო კლებადობით (ზევიდან-ქვევით) sort-ით, რათა პირველი სამი ამოვიღო, თუმცა set უნდა გადავაქციო list-ად, რომ sort გამოვიყენო. range-ით ამოვიღებ 0-დან 3-მდე.\n",
    "unique_grades_list = list(unique_grades)\n",
    "unique_grades_list.sort(reverse=True)\n",
    "top_grades = unique_grades_list[:3]\n",
    "# students-ში ვალაგებ თითოეული წყვილის ანუ თაფლის მეორე ელემენტს (ქულას) კლებადობით — ანუ მაღლიდან-დბალამდე\n",
    "students_sorted_by_grades = sorted(students, key=lambda x: x[1], reverse=True)\n",
    "printed_names = set()\n",
    "for student in students_sorted_by_grades:\n",
    "    # ვამოწმებ, არის თუ არა ამ სტუდენტის სახელი უკვე დაბეჭდილი. თუ არა, ვბეჭდავ და ვამატებ printed_names-ში, რომ მეორედ არ დაიბეჭდოს\n",
    "    if student[0] not in printed_names:\n",
    "        print(f\"Top Performer: {student[0]}\")\n",
    "        printed_names.add(student[0])\n",
    "        # როცა სამი სტუდენტის სახელი დაიბეჭდება და დაემატება printed_names-ში, ციკლი შეწყდება\n",
    "    if len(printed_names) == 3:\n",
    "        break\n",
    "\n",
    "print(\"\\n\" + \"-\"*30 + \"\\n\")\n",
    "\n",
    "# 3. ჩაჭრილი სტუდენტები (Failed Students) 51-ზე ნაკლები ქულით:\n",
    "for student in students:\n",
    "    if student[1] < 51:\n",
    "        print(f\"Failed Student: {student[0]}({student[1]} score)\")"
   ],
   "outputs": [
    {
     "name": "stdout",
     "output_type": "stream",
     "text": [
      "Unique Grades: {78, 50, 21, 85, 92}\n",
      "\n",
      "------------------------------\n",
      "\n",
      "Top Performer: Charlie\n",
      "Top Performer: Alice\n",
      "Top Performer: David\n",
      "\n",
      "------------------------------\n",
      "\n",
      "Failed Student: Mark(50 score)\n",
      "Failed Student: George(21 score)\n"
     ]
    }
   ],
   "execution_count": 32
  }
 ],
 "metadata": {
  "kernelspec": {
   "display_name": "Python 3",
   "language": "python",
   "name": "python3"
  },
  "language_info": {
   "codemirror_mode": {
    "name": "ipython",
    "version": 2
   },
   "file_extension": ".py",
   "mimetype": "text/x-python",
   "name": "python",
   "nbconvert_exporter": "python",
   "pygments_lexer": "ipython2",
   "version": "2.7.6"
  }
 },
 "nbformat": 4,
 "nbformat_minor": 5
}
