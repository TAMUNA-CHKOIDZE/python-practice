{
 "cells": [
  {
   "cell_type": "code",
   "id": "initial_id",
   "metadata": {
    "collapsed": true
   },
   "source": [
    "import random  # ვაიმპორტებ, რადგან მოდულია\n",
    "\n",
    "score = 0\n",
    "total_questions = 5\n",
    "\n",
    "print(\"Welcome to the Simple Multiplication Quiz!\")\n",
    "print(\"You will be given 5 multiplication problems to solve.\\n\")\n",
    "\n",
    " # ციკლს ვატრიალებ 1-დან 5-ის ჩათვლით, რომ 5 რენდომული გამრავლება გააკეთოს და დაბეჭდოს. რადგან range 10-ს არ ჩათვლის +1 მჭირდება\n",
    "for i in range(1, total_questions + 1):\n",
    "    number1 = random.randint(1, 10)\n",
    "    number2 = random.randint(1, 10)\n",
    "    answer = number1 * number2\n",
    "    print(f\"Problem {i}: What is {number1} * {number2}?\")\n",
    "\n",
    "    # input-ს გამოიტანს for-ის ყოველ იტერაციაზე, თუმცა თითოეულ იტერაციაზე იმდენჯერ და იქამდე გამოიტანს სანამ მთელ რიცხვს არ ჩაწერს მომხმარებელი\n",
    "    while True:\n",
    "        user_input = input(\"Enter your answer: \")\n",
    "        # The isdigit() method in Python is a built-in string method used to check if all characters within a string are digits (ციფრია). It returns True if every character in the string is a digit (0-9), and False otherwise.\n",
    "        if user_input.isdigit():\n",
    "            # თუ ციფრია, მაშინ მომხმარებლის შეყვანილ მონაცემს, რომელსაც სტრინგის სახით აბრუნებს input გადავაქცევ რიცხვად და ციკლი შეწყდება (აღარ აჩვენებს input-ს)\n",
    "            user_answer = int(user_input)\n",
    "            print(f\"Your answer: {user_answer}\")\n",
    "            if user_answer == answer:\n",
    "                print(\"Correct!\\n\")\n",
    "                score += 1\n",
    "            else:\n",
    "                print(\"Incorrect!\")\n",
    "            break\n",
    "        else:\n",
    "            print(\"Please enter a valid whole number.\")\n",
    "print(f\"You scored {score} out of {total_questions} questions. well done!\")"
   ],
   "outputs": [],
   "execution_count": null
  }
 ],
 "metadata": {
  "kernelspec": {
   "display_name": "Python 3",
   "language": "python",
   "name": "python3"
  },
  "language_info": {
   "codemirror_mode": {
    "name": "ipython",
    "version": 2
   },
   "file_extension": ".py",
   "mimetype": "text/x-python",
   "name": "python",
   "nbconvert_exporter": "python",
   "pygments_lexer": "ipython2",
   "version": "2.7.6"
  }
 },
 "nbformat": 4,
 "nbformat_minor": 5
}
