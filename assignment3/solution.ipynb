{
 "cells": [
  {
   "cell_type": "code",
   "id": "initial_id",
   "metadata": {
    "collapsed": true,
    "ExecuteTime": {
     "end_time": "2025-08-17T15:55:22.779726Z",
     "start_time": "2025-08-17T15:55:22.773880Z"
    }
   },
   "source": [
    "# list(map(operation, numbers))  -- იგივეა --\n",
    "\n",
    "def apply_operation(numbers, operation):\n",
    "    return [operation(number) for number in numbers]  # აბრუნებს list-ს. იღებს თითოეულ number-ს numbers სიიდან და უშვებს operation ფუნქციას number-ებზე ანუ იყენებს გადაცემულ ფუნქციას ამ რიცხვზე და აბრუნებს ახალ სიას\n",
    "\n",
    "numbers_list = [1, 2, 3, 4, 5]\n",
    "\n",
    "# 1. Doubled\n",
    "doubled = apply_operation(numbers_list, lambda number: number * 2)\n",
    "print(f\"doubled: {doubled}\")\n",
    "\n",
    "# 2. Squared\n",
    "squared = apply_operation(numbers_list, lambda number: number * number)\n",
    "print(f\"squared: {squared}\")\n",
    "\n",
    "# 3. Filtered (odd numbers) - აქ apply_operation ფუნქციას ვერ გამოვიყენებდი\n",
    "filtered = filter(lambda number: number % 2 == 1, numbers_list)\n",
    "print(f\"filtered (odd numbers): {list(filtered)}\")\n"
   ],
   "outputs": [
    {
     "name": "stdout",
     "output_type": "stream",
     "text": [
      "doubled: [2, 4, 6, 8, 10]\n",
      "squared: [1, 4, 9, 16, 25]\n",
      "filtered (odd numbers): [1, 3, 5]\n"
     ]
    }
   ],
   "execution_count": 11
  }
 ],
 "metadata": {
  "kernelspec": {
   "display_name": "Python 3",
   "language": "python",
   "name": "python3"
  },
  "language_info": {
   "codemirror_mode": {
    "name": "ipython",
    "version": 2
   },
   "file_extension": ".py",
   "mimetype": "text/x-python",
   "name": "python",
   "nbconvert_exporter": "python",
   "pygments_lexer": "ipython2",
   "version": "2.7.6"
  }
 },
 "nbformat": 4,
 "nbformat_minor": 5
}
